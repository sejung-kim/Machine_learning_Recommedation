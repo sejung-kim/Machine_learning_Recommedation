{
 "cells": [
  {
   "cell_type": "code",
   "execution_count": 1,
   "metadata": {},
   "outputs": [
    {
     "name": "stdout",
     "output_type": "stream",
     "text": [
      "   User-ID        ISBN  Book-Rating\n",
      "0   276725  034545104X            0\n",
      "1   276726  0155061224            5\n",
      "2   276727  0446520802            0\n",
      "3   276729  052165615X            3\n",
      "4   276729  0521795028            6\n"
     ]
    }
   ],
   "source": [
    "import pandas as pd\n",
    "import numpy as np\n",
    "from sklearn.feature_extraction import DictVectorizer\n",
    "from sklearn.metrics.pairwise import cosine_similarity\n",
    "from sklearn.feature_extraction.text import TfidfVectorizer\n",
    "\n",
    "import warnings\n",
    "warnings.filterwarnings(\"ignore\")\n",
    "\n",
    "# Read dataset\n",
    "books = pd.read_csv(\"BX_Books.csv\", delimiter=\";\", encoding = \"ISO-8859-1\", error_bad_lines=False, warn_bad_lines=False)\n",
    "users = pd.read_csv(\"BX-Users.csv\", delimiter=\";\", encoding = \"ISO-8859-1\", error_bad_lines=False, warn_bad_lines=False)\n",
    "ratings = pd.read_csv(\"BX-Book-Ratings.csv\", delimiter=\";\", encoding = \"ISO-8859-1\", error_bad_lines=False, warn_bad_lines=False)\n",
    "\n",
    "# Show top-5 records\n",
    "print(ratings.head())"
   ]
  },
  {
   "cell_type": "code",
   "execution_count": 2,
   "metadata": {},
   "outputs": [
    {
     "data": {
      "text/plain": [
       "(1031175, 10)"
      ]
     },
     "execution_count": 2,
     "metadata": {},
     "output_type": "execute_result"
    }
   ],
   "source": [
    "# Join ratings and books dataframes\n",
    "rating_books=pd.merge(ratings,books,on=\"ISBN\")\n",
    "\n",
    "# Shape of the data\n",
    "rating_books.shape"
   ]
  },
  {
   "cell_type": "code",
   "execution_count": 3,
   "metadata": {},
   "outputs": [],
   "source": [
    "# Reducing Data Due to Memory Constraints\n",
    "# Check the total number of rows in the DataFrame\n",
    "total_rows = rating_books.shape[0]\n",
    "\n",
    "# Calculate the number of rows to retain when removing 50% of the data\n",
    "rows_to_remove = int(total_rows * 0.99999)\n",
    "\n",
    "# Obtain indices of randomly selected rows to be retained\n",
    "indices_to_remove = rating_books.sample(n=rows_to_remove, random_state=42).index\n",
    "\n",
    "# Remove rows using the obtained indices\n",
    "df = rating_books.drop(indices_to_remove)"
   ]
  },
  {
   "cell_type": "code",
   "execution_count": 4,
   "metadata": {},
   "outputs": [
    {
     "data": {
      "text/html": [
       "<div>\n",
       "<style scoped>\n",
       "    .dataframe tbody tr th:only-of-type {\n",
       "        vertical-align: middle;\n",
       "    }\n",
       "\n",
       "    .dataframe tbody tr th {\n",
       "        vertical-align: top;\n",
       "    }\n",
       "\n",
       "    .dataframe thead th {\n",
       "        text-align: right;\n",
       "    }\n",
       "</style>\n",
       "<table border=\"1\" class=\"dataframe\">\n",
       "  <thead>\n",
       "    <tr style=\"text-align: right;\">\n",
       "      <th>User-ID</th>\n",
       "      <th>35028</th>\n",
       "      <th>46398</th>\n",
       "      <th>48261</th>\n",
       "      <th>56271</th>\n",
       "      <th>83109</th>\n",
       "      <th>114868</th>\n",
       "      <th>174326</th>\n",
       "      <th>204929</th>\n",
       "      <th>225731</th>\n",
       "      <th>227705</th>\n",
       "      <th>273110</th>\n",
       "    </tr>\n",
       "    <tr>\n",
       "      <th>Book-Title</th>\n",
       "      <th></th>\n",
       "      <th></th>\n",
       "      <th></th>\n",
       "      <th></th>\n",
       "      <th></th>\n",
       "      <th></th>\n",
       "      <th></th>\n",
       "      <th></th>\n",
       "      <th></th>\n",
       "      <th></th>\n",
       "      <th></th>\n",
       "    </tr>\n",
       "  </thead>\n",
       "  <tbody>\n",
       "    <tr>\n",
       "      <th>Adventures of Sherlock Holmes (Wordsworth Collection)</th>\n",
       "      <td>0.0</td>\n",
       "      <td>0.0</td>\n",
       "      <td>0.0</td>\n",
       "      <td>9.0</td>\n",
       "      <td>0.0</td>\n",
       "      <td>0.0</td>\n",
       "      <td>0.0</td>\n",
       "      <td>0.0</td>\n",
       "      <td>0.0</td>\n",
       "      <td>0.0</td>\n",
       "      <td>0.0</td>\n",
       "    </tr>\n",
       "    <tr>\n",
       "      <th>FIRST WIVES CLUB</th>\n",
       "      <td>0.0</td>\n",
       "      <td>0.0</td>\n",
       "      <td>0.0</td>\n",
       "      <td>0.0</td>\n",
       "      <td>0.0</td>\n",
       "      <td>0.0</td>\n",
       "      <td>0.0</td>\n",
       "      <td>0.0</td>\n",
       "      <td>0.0</td>\n",
       "      <td>0.0</td>\n",
       "      <td>0.0</td>\n",
       "    </tr>\n",
       "    <tr>\n",
       "      <th>Firestorm (Anna Pigeon Mysteries (Paperback))</th>\n",
       "      <td>0.0</td>\n",
       "      <td>0.0</td>\n",
       "      <td>0.0</td>\n",
       "      <td>0.0</td>\n",
       "      <td>0.0</td>\n",
       "      <td>0.0</td>\n",
       "      <td>0.0</td>\n",
       "      <td>0.0</td>\n",
       "      <td>0.0</td>\n",
       "      <td>0.0</td>\n",
       "      <td>0.0</td>\n",
       "    </tr>\n",
       "    <tr>\n",
       "      <th>Foucault's Pendulum</th>\n",
       "      <td>0.0</td>\n",
       "      <td>0.0</td>\n",
       "      <td>0.0</td>\n",
       "      <td>0.0</td>\n",
       "      <td>0.0</td>\n",
       "      <td>0.0</td>\n",
       "      <td>0.0</td>\n",
       "      <td>0.0</td>\n",
       "      <td>0.0</td>\n",
       "      <td>0.0</td>\n",
       "      <td>0.0</td>\n",
       "    </tr>\n",
       "    <tr>\n",
       "      <th>Guilty as Sin</th>\n",
       "      <td>0.0</td>\n",
       "      <td>0.0</td>\n",
       "      <td>0.0</td>\n",
       "      <td>0.0</td>\n",
       "      <td>0.0</td>\n",
       "      <td>0.0</td>\n",
       "      <td>0.0</td>\n",
       "      <td>0.0</td>\n",
       "      <td>0.0</td>\n",
       "      <td>0.0</td>\n",
       "      <td>0.0</td>\n",
       "    </tr>\n",
       "  </tbody>\n",
       "</table>\n",
       "</div>"
      ],
      "text/plain": [
       "User-ID                                             35028   46398   48261   \\\n",
       "Book-Title                                                                   \n",
       "Adventures of Sherlock Holmes (Wordsworth Colle...     0.0     0.0     0.0   \n",
       "FIRST WIVES CLUB                                       0.0     0.0     0.0   \n",
       "Firestorm (Anna Pigeon Mysteries (Paperback))          0.0     0.0     0.0   \n",
       "Foucault's Pendulum                                    0.0     0.0     0.0   \n",
       "Guilty as Sin                                          0.0     0.0     0.0   \n",
       "\n",
       "User-ID                                             56271   83109   114868  \\\n",
       "Book-Title                                                                   \n",
       "Adventures of Sherlock Holmes (Wordsworth Colle...     9.0     0.0     0.0   \n",
       "FIRST WIVES CLUB                                       0.0     0.0     0.0   \n",
       "Firestorm (Anna Pigeon Mysteries (Paperback))          0.0     0.0     0.0   \n",
       "Foucault's Pendulum                                    0.0     0.0     0.0   \n",
       "Guilty as Sin                                          0.0     0.0     0.0   \n",
       "\n",
       "User-ID                                             174326  204929  225731  \\\n",
       "Book-Title                                                                   \n",
       "Adventures of Sherlock Holmes (Wordsworth Colle...     0.0     0.0     0.0   \n",
       "FIRST WIVES CLUB                                       0.0     0.0     0.0   \n",
       "Firestorm (Anna Pigeon Mysteries (Paperback))          0.0     0.0     0.0   \n",
       "Foucault's Pendulum                                    0.0     0.0     0.0   \n",
       "Guilty as Sin                                          0.0     0.0     0.0   \n",
       "\n",
       "User-ID                                             227705  273110  \n",
       "Book-Title                                                          \n",
       "Adventures of Sherlock Holmes (Wordsworth Colle...     0.0     0.0  \n",
       "FIRST WIVES CLUB                                       0.0     0.0  \n",
       "Firestorm (Anna Pigeon Mysteries (Paperback))          0.0     0.0  \n",
       "Foucault's Pendulum                                    0.0     0.0  \n",
       "Guilty as Sin                                          0.0     0.0  "
      ]
     },
     "execution_count": 4,
     "metadata": {},
     "output_type": "execute_result"
    }
   ],
   "source": [
    "\n",
    "# Create Item-user matrix using pivot_table()\n",
    "rating_books_pivot = df.pivot_table(index='Book-Title', columns='User-ID', values='Book-Rating').fillna(0)\n",
    "\n",
    "# Show top-5 records\n",
    "rating_books_pivot.head()"
   ]
  },
  {
   "cell_type": "code",
   "execution_count": 5,
   "metadata": {},
   "outputs": [
    {
     "data": {
      "text/plain": [
       "NearestNeighbors(algorithm='brute', metric='cosine', n_jobs=-1, n_neighbors=7)"
      ]
     },
     "execution_count": 5,
     "metadata": {},
     "output_type": "execute_result"
    }
   ],
   "source": [
    "\n",
    "# Import NearestNeighbors\n",
    "from sklearn.neighbors import NearestNeighbors\n",
    "\n",
    "# Build NearestNeighbors Object\n",
    "model_knn = NearestNeighbors(metric='cosine', algorithm='brute', n_neighbors=7, n_jobs=-1)\n",
    "\n",
    "# Fit the NearestNeighbor\n",
    "model_knn.fit(rating_books_pivot)"
   ]
  },
  {
   "cell_type": "code",
   "execution_count": 6,
   "metadata": {},
   "outputs": [
    {
     "name": "stdout",
     "output_type": "stream",
     "text": [
      "\n",
      "Recommended Books\n",
      "==================\n",
      "1 .  Portnoy et Son complexe\n",
      "2 .  How to Make Your Science Project Scientific\n",
      "3 .  The Promise\n",
      "4 .  The Bear and the Dragon (Jack Ryan Novels)\n",
      "5 .  The Apocrypha: Authorized Version of the Books Not in the Bible\n",
      "6 .  Adventures of Sherlock Holmes (Wordsworth Collection)\n",
      "7 .  Firestorm (Anna Pigeon Mysteries (Paperback))\n",
      "8 .  Foucault's Pendulum\n",
      "9 .  FIRST WIVES CLUB\n",
      "10 .  Guilty as Sin\n"
     ]
    }
   ],
   "source": [
    "\n",
    "# Get top 10 nearest neighbors \n",
    "indices=model_knn.kneighbors(rating_books_pivot.loc[['FIRST WIVES CLUB']], 10, return_distance=False)\n",
    "\n",
    "# Print the recommended books\n",
    "print(\"\\nRecommended Books\")\n",
    "print(\"==================\")\n",
    "for index, value in enumerate(rating_books_pivot.index[indices][0]):\n",
    "    print((index+1),\". \",value)"
   ]
  },
  {
   "cell_type": "code",
   "execution_count": 10,
   "metadata": {},
   "outputs": [
    {
     "name": "stdout",
     "output_type": "stream",
     "text": [
      "\n",
      "Recommended Books\n",
      "==================\n",
      "1 .  Portnoy et Son complexe\n",
      "2 .  How to Make Your Science Project Scientific\n",
      "3 .  The Promise\n",
      "4 .  The Bear and the Dragon (Jack Ryan Novels)\n",
      "5 .  The Apocrypha: Authorized Version of the Books Not in the Bible\n",
      "6 .  Adventures of Sherlock Holmes (Wordsworth Collection)\n",
      "7 .  Firestorm (Anna Pigeon Mysteries (Paperback))\n",
      "8 .  Foucault's Pendulum\n",
      "9 .  FIRST WIVES CLUB\n",
      "10 .  Guilty as Sin\n"
     ]
    }
   ],
   "source": [
    "\n",
    "# Get top 10 nearest neighbors \n",
    "indices=model_knn.kneighbors(rating_books_pivot.loc[['The Promise']], 10, return_distance=False)\n",
    "\n",
    "# Print the recommended books\n",
    "print(\"\\nRecommended Books\")\n",
    "print(\"==================\")\n",
    "for index, value in enumerate(rating_books_pivot.index[indices][0]):\n",
    "    print((index+1),\". \",value)"
   ]
  }
 ],
 "metadata": {
  "kernelspec": {
   "display_name": "Python 3",
   "language": "python",
   "name": "python3"
  },
  "language_info": {
   "codemirror_mode": {
    "name": "ipython",
    "version": 3
   },
   "file_extension": ".py",
   "mimetype": "text/x-python",
   "name": "python",
   "nbconvert_exporter": "python",
   "pygments_lexer": "ipython3",
   "version": "3.9.13"
  }
 },
 "nbformat": 4,
 "nbformat_minor": 2
}
